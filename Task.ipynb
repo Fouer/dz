{
 "cells": [
  {
   "cell_type": "markdown",
   "metadata": {},
   "source": [
    "# Домашнее задание по обработке текстов\n",
    "\n",
    "## Предсказание цены акции по экономическим новостям\n",
    "\n",
    "Входные данные:\n",
    "* Новости о компании \"Газпром\", начиная с 2010 года\n",
    "* Стоимость акций компании \"Газпром\" на ММВБ, начиная с 2010 года\n",
    "    * цена открытия (Open)\n",
    "    * цена закрытия (ClosingPrice)\n",
    "    * максимальная цена за день (DailyHigh)\n",
    "    * минимальная цена за день (DailyLow) \n",
    "    * объем бумаг (VolumePcs)\n"
   ]
  },
  {
   "cell_type": "code",
   "execution_count": 1,
   "metadata": {},
   "outputs": [
    {
     "name": "stdout",
     "output_type": "stream",
     "text": [
      "Populating the interactive namespace from numpy and matplotlib\n"
     ]
    }
   ],
   "source": [
    "import pandas as pd\n",
    "import numpy as np\n",
    "import seaborn as sns\n",
    "import re\n",
    "%pylab inline"
   ]
  },
  {
   "cell_type": "code",
   "execution_count": 2,
   "metadata": {},
   "outputs": [],
   "source": [
    "#импортируем данные с переводом текста в дату и разделения десятичной части запятой.\n",
    "#в качестве индекса удобно использовать дату\n",
    "df = pd.read_csv('texts.csv', parse_dates=[0], index_col=0, converters={1:lambda x: x.replace('\\xa0', ' ')})\n",
    "pr_all = pd.read_csv('gazprom_prices.csv', sep=';', parse_dates=[0], decimal=',', index_col=0)"
   ]
  },
  {
   "cell_type": "code",
   "execution_count": 3,
   "metadata": {},
   "outputs": [],
   "source": [
    "#Оставляем только даты, когда были и новости и данные по стоимости акций\n",
    "df = df[df.index.isin(pr_all.index)]\n",
    "pr_all = pr_all[pr_all.index.isin(df.index)]"
   ]
  },
  {
   "cell_type": "code",
   "execution_count": 4,
   "metadata": {},
   "outputs": [
    {
     "data": {
      "text/plain": [
       "1159"
      ]
     },
     "execution_count": 4,
     "metadata": {},
     "output_type": "execute_result"
    }
   ],
   "source": [
    "#Итого получаем дней для анализа:\n",
    "len(df)"
   ]
  },
  {
   "cell_type": "code",
   "execution_count": 5,
   "metadata": {},
   "outputs": [
    {
     "data": {
      "text/plain": [
       "(                                                         text\n",
       " date                                                         \n",
       " 2017-09-11  Компания рассчитывает на решение по газовому с...\n",
       " 2017-08-11   Как и предполагал “Ъ”, «Газпром», воспользова...\n",
       " 2017-01-11   Новая редакция американских санкций ставит по...\n",
       " 2017-10-30   Как стало известно “Ъ”, известный на рынке ри...\n",
       " 2017-10-23   НОВАТЭК, который через пять лет собирается за...,\n",
       "               Open  ClosingPrice  DailyHigh  DailyLow  VolumePcs\n",
       " Date                                                            \n",
       " 2017-09-11  132.31        131.50     132.82    131.14   33869650\n",
       " 2017-08-11  132.00        132.30     133.94    131.58   39381960\n",
       " 2017-01-11  126.40        126.50     126.89    125.97   18232550\n",
       " 2017-10-30  125.96        125.98     126.93    125.53   19263340\n",
       " 2017-10-23  127.05        126.80     127.47    126.37   17308800)"
      ]
     },
     "execution_count": 5,
     "metadata": {},
     "output_type": "execute_result"
    }
   ],
   "source": [
    "df.head(), pr_all.head()"
   ]
  },
  {
   "cell_type": "markdown",
   "metadata": {},
   "source": [
    "### Часть 1. Вводная\n",
    "\n",
    "Проведите предобработку текстов: если считаете нужным, выполните токенизацию, приведение к нижнему регистру, лемматизацию и/или стемминг. Ответьте на следующие вопросы:\n",
    "* Есть ли корреляция между средней длинной текста за день и ценой закрытия?\n",
    "* Есть ли корреляция между количеством упоминаний Алексея Миллера  и ценой закрытия? Учтите разные варианты написания имени.\n",
    "* Упоминаний какого газопровода в статьях больше: \n",
    "    * \"северный поток\"\n",
    "    * \"турецкий поток\"?\n",
    "* О каких санкциях пишут в статьях?"
   ]
  },
  {
   "cell_type": "markdown",
   "metadata": {},
   "source": [
    "##### Есть ли корреляция между средней длинной текста за день и ценой закрытия?##### "
   ]
  },
  {
   "cell_type": "code",
   "execution_count": 6,
   "metadata": {
    "collapsed": true
   },
   "outputs": [],
   "source": [
    "#Посчитаем длинну новостей\n",
    "df['text_len'] = df['text'].apply(len)"
   ]
  },
  {
   "cell_type": "code",
   "execution_count": 7,
   "metadata": {},
   "outputs": [
    {
     "data": {
      "text/plain": [
       "0.014409399726613269"
      ]
     },
     "execution_count": 7,
     "metadata": {},
     "output_type": "execute_result"
    }
   ],
   "source": [
    "np.corrcoef(pr_all.ClosingPrice, df.text_len)[0,1]"
   ]
  },
  {
   "cell_type": "markdown",
   "metadata": {},
   "source": [
    "Коэффициент корреляции Пирсона меньше 0.3 \n",
    "**Вывод:** корреляция слабая или отсутствует"
   ]
  },
  {
   "cell_type": "code",
   "execution_count": 8,
   "metadata": {},
   "outputs": [
    {
     "data": {
      "text/plain": [
       "<seaborn.axisgrid.FacetGrid at 0x1f3bd3daf98>"
      ]
     },
     "execution_count": 8,
     "metadata": {},
     "output_type": "execute_result"
    },
    {
     "data": {
      "image/png": "[encoded data removed]",
      "text/plain": [
       "<matplotlib.figure.Figure at 0x1f3bd43a048>"
      ]
     },
     "metadata": {},
     "output_type": "display_data"
    }
   ],
   "source": [
    "#Построим график для наглядности\n",
    "corr = pd.DataFrame()\n",
    "corr['Text_len']=df.text_len\n",
    "corr['Price']=pr_all.ClosingPrice\n",
    "sns.lmplot('Text_len',\n",
    "           'Price', \n",
    "           data=corr, \n",
    "           fit_reg=False, \n",
    "           scatter_kws={\"marker\": \"D\", \n",
    "                        \"s\": 10}) "
   ]
  },
  {
   "cell_type": "markdown",
   "metadata": {},
   "source": [
    "#### Есть ли корреляция между количеством упоминаний Алексея Миллера и ценой закрытия? #### "
   ]
  },
  {
   "cell_type": "code",
   "execution_count": 9,
   "metadata": {},
   "outputs": [],
   "source": [
    "#Посчитаем количество упоминаний Алексея Миллера в новостях.\n",
    "df['Miller']=df['text'].apply(lambda text: len(re.findall('[Мм]иллер', text)))"
   ]
  },
  {
   "cell_type": "code",
   "execution_count": 10,
   "metadata": {},
   "outputs": [
    {
     "data": {
      "text/plain": [
       "0.010635076467578011"
      ]
     },
     "execution_count": 10,
     "metadata": {},
     "output_type": "execute_result"
    }
   ],
   "source": [
    "np.corrcoef(pr_all.ClosingPrice, df.Miller)[0,1]"
   ]
  },
  {
   "cell_type": "markdown",
   "metadata": {},
   "source": [
    "Коэффициент корреляции Пирсона меньше 0.3 **Вывод**: корреляция слабая или отсутствует"
   ]
  },
  {
   "cell_type": "code",
   "execution_count": 11,
   "metadata": {},
   "outputs": [
    {
     "data": {
      "text/plain": [
       "<seaborn.axisgrid.FacetGrid at 0x1f3bd3da278>"
      ]
     },
     "execution_count": 11,
     "metadata": {},
     "output_type": "execute_result"
    },
    {
     "data": {
      "image/png": "[encoded data removed]",
      "text/plain": [
       "<matplotlib.figure.Figure at 0x1f3bd3da1d0>"
      ]
     },
     "metadata": {},
     "output_type": "display_data"
    }
   ],
   "source": [
    "#Построим график для наглядности\n",
    "m_corr = pd.DataFrame()\n",
    "m_corr['Miller_counts']=df.Miller\n",
    "m_corr['Price']=pr_all.ClosingPrice\n",
    "sns.lmplot('Miller_counts',\n",
    "           'Price', \n",
    "           data=m_corr, \n",
    "           fit_reg=False, \n",
    "           scatter_kws={\"marker\": \"D\", \n",
    "                        \"s\": 10}) "
   ]
  },
  {
   "cell_type": "markdown",
   "metadata": {},
   "source": [
    "#### Упоминаний какого газопровода в статьях больше?"
   ]
  },
  {
   "cell_type": "code",
   "execution_count": 12,
   "metadata": {},
   "outputs": [
    {
     "name": "stdout",
     "output_type": "stream",
     "text": [
      "Упоминаний Турецкого потока: 39\n",
      "Упоминаний Северного потока: 15\n"
     ]
    }
   ],
   "source": [
    "#Загрузим данные еще раз, чтобы иметь новости за все даты\n",
    "df1 = pd.read_csv('texts.csv', parse_dates=[0], index_col=0, converters={1:lambda x: x.replace('\\xa0', ' ')})\n",
    "\n",
    "north = sum(df1['text'].apply(lambda text: len(re.findall('[Сс]еверн[а-я]{2,4} [Пп]оток[а-я]{0,3}', text))))\n",
    "turkish = sum(df1['text'].apply(lambda text: len(re.findall('[Тт]урецк[а-я]{2,4} [Пп]оток[а-я]{0,3}', text))))\n",
    "print(\"Упоминаний Турецкого потока: {}\\nУпоминаний Северного потока: {}\".format(turkish,north))"
   ]
  },
  {
   "cell_type": "markdown",
   "metadata": {},
   "source": [
    "#### О каких санкциях пишут в статьях?"
   ]
  },
  {
   "cell_type": "code",
   "execution_count": 13,
   "metadata": {
    "collapsed": true
   },
   "outputs": [],
   "source": [
    "#Лемматизация\n",
    "from pymorphy2 import MorphAnalyzer\n",
    "\n",
    "def lem(text):\n",
    "    m =  MorphAnalyzer()\n",
    "    return  [m.parse(word)[0].normal_form for word in text.split()]\n",
    "\n",
    "df1['lemmas']=df1['text'].apply(lem)"
   ]
  },
  {
   "cell_type": "code",
   "execution_count": 14,
   "metadata": {},
   "outputs": [],
   "source": [
    "#Оставим только новости о санкциях\n",
    "sanctions = df1['lemmas'][df1['lemmas'].apply(lambda x: 'санкция' in x)]"
   ]
  },
  {
   "cell_type": "code",
   "execution_count": 15,
   "metadata": {},
   "outputs": [],
   "source": [
    "#Функция для поиска прилагательных перед словом \"санкция\"\n",
    "def sanc_a(text):\n",
    "    m= MorphAnalyzer()\n",
    "    word_index = [i-1 for i, x in enumerate(text) if x == \"санкция\"]\n",
    "    adj = []\n",
    "    for i in word_index:\n",
    "        if m.parse(text[i])[0].tag.POS in ['ADJF', 'ADJS']:\n",
    "            adj.append(text[i])\n",
    "    return adj"
   ]
  },
  {
   "cell_type": "code",
   "execution_count": 16,
   "metadata": {},
   "outputs": [
    {
     "data": {
      "text/plain": [
       "{'американский',\n",
       " 'западный',\n",
       " 'персональный',\n",
       " 'секторальный',\n",
       " 'штрафной',\n",
       " 'экономический'}"
      ]
     },
     "execution_count": 16,
     "metadata": {},
     "output_type": "execute_result"
    }
   ],
   "source": [
    "set(sum(sanctions.apply(sanc_a)))"
   ]
  },
  {
   "cell_type": "markdown",
   "metadata": {},
   "source": [
    "В списке выше можно видеть о каких санкциях идет речь в новостях."
   ]
  },
  {
   "cell_type": "markdown",
   "metadata": {},
   "source": [
    "## Часть 2. Классификационная\n",
    "Вам предстоит решить следующую задачу: по текстам новостей за день определить, вырастет или понизится цена закрытия.\n",
    "Для этого:\n",
    "* бинаризуйте признак \"цена закрытия\":  новый признак ClosingPrice_bin равен 1, если по сравнению со вчера цена не упала, и 0 – в обратном случаея;\n",
    "* составьте бучающее и тестовое множество: данные до начала 2016 года используются для обучения, данные с 2016 года и позже – для тестирования.\n",
    "\n",
    "Таким образом, в каждлый момент времени мы знаем: \n",
    "* ClosingPrice_bin – бинарый целевой признак\n",
    "* слова из статей, опубликованных в этот день – объясняющие признаки\n",
    "\n",
    "В этой части задания вам нужно сделать baseline алгоритм и попытаться его улучшить в следующей части. \n",
    "\n",
    "Используйте любой известный вам алгоритм классификации текстов для того, Используйте $tf-idf$ преобразование, сингулярное разложение, нормировку признакого пространства и любые другие техники обработки данных, которые вы считаете нужным. Используйте accuracy и F-measure для оценки качества классификации. Покажите, как  $tf-idf$ преобразование или сингулярное разложение или любая другая использованная вами техника влияет на качество классификации.\n",
    "Если у выбранного вами алгоритма есть гиперпараметры (например, $\\alpha$ в преобразовании Лапласа для метода наивного Байеса), покажите, как изменение гиперпараметра влияет на качество классификации."
   ]
  },
  {
   "cell_type": "markdown",
   "metadata": {},
   "source": [
    "#### Бинаризуйте признак \"цена закрытия\": новый признак ClosingPrice_bin равен 1, если по сравнению со вчера цена не упала, и 0 – в обратном случае#### "
   ]
  },
  {
   "cell_type": "code",
   "execution_count": 33,
   "metadata": {},
   "outputs": [
    {
     "data": {
      "text/html": [
       "<div>\n",
       "<style>\n",
       "    .dataframe thead tr:only-child th {\n",
       "        text-align: right;\n",
       "    }\n",
       "\n",
       "    .dataframe thead th {\n",
       "        text-align: left;\n",
       "    }\n",
       "\n",
       "    .dataframe tbody tr th {\n",
       "        vertical-align: top;\n",
       "    }\n",
       "</style>\n",
       "<table border=\"1\" class=\"dataframe\">\n",
       "  <thead>\n",
       "    <tr style=\"text-align: right;\">\n",
       "      <th></th>\n",
       "      <th>Open</th>\n",
       "      <th>ClosingPrice</th>\n",
       "      <th>DailyHigh</th>\n",
       "      <th>DailyLow</th>\n",
       "      <th>VolumePcs</th>\n",
       "      <th>ClosingPrice_bin</th>\n",
       "    </tr>\n",
       "    <tr>\n",
       "      <th>Date</th>\n",
       "      <th></th>\n",
       "      <th></th>\n",
       "      <th></th>\n",
       "      <th></th>\n",
       "      <th></th>\n",
       "      <th></th>\n",
       "    </tr>\n",
       "  </thead>\n",
       "  <tbody>\n",
       "    <tr>\n",
       "      <th>2017-09-11</th>\n",
       "      <td>132.31</td>\n",
       "      <td>131.50</td>\n",
       "      <td>132.82</td>\n",
       "      <td>131.14</td>\n",
       "      <td>33869650</td>\n",
       "      <td>0</td>\n",
       "    </tr>\n",
       "    <tr>\n",
       "      <th>2017-08-11</th>\n",
       "      <td>132.00</td>\n",
       "      <td>132.30</td>\n",
       "      <td>133.94</td>\n",
       "      <td>131.58</td>\n",
       "      <td>39381960</td>\n",
       "      <td>1</td>\n",
       "    </tr>\n",
       "    <tr>\n",
       "      <th>2017-01-11</th>\n",
       "      <td>126.40</td>\n",
       "      <td>126.50</td>\n",
       "      <td>126.89</td>\n",
       "      <td>125.97</td>\n",
       "      <td>18232550</td>\n",
       "      <td>0</td>\n",
       "    </tr>\n",
       "    <tr>\n",
       "      <th>2017-10-30</th>\n",
       "      <td>125.96</td>\n",
       "      <td>125.98</td>\n",
       "      <td>126.93</td>\n",
       "      <td>125.53</td>\n",
       "      <td>19263340</td>\n",
       "      <td>0</td>\n",
       "    </tr>\n",
       "    <tr>\n",
       "      <th>2017-10-23</th>\n",
       "      <td>127.05</td>\n",
       "      <td>126.80</td>\n",
       "      <td>127.47</td>\n",
       "      <td>126.37</td>\n",
       "      <td>17308800</td>\n",
       "      <td>1</td>\n",
       "    </tr>\n",
       "  </tbody>\n",
       "</table>\n",
       "</div>"
      ],
      "text/plain": [
       "              Open  ClosingPrice  DailyHigh  DailyLow  VolumePcs  \\\n",
       "Date                                                               \n",
       "2017-09-11  132.31        131.50     132.82    131.14   33869650   \n",
       "2017-08-11  132.00        132.30     133.94    131.58   39381960   \n",
       "2017-01-11  126.40        126.50     126.89    125.97   18232550   \n",
       "2017-10-30  125.96        125.98     126.93    125.53   19263340   \n",
       "2017-10-23  127.05        126.80     127.47    126.37   17308800   \n",
       "\n",
       "            ClosingPrice_bin  \n",
       "Date                          \n",
       "2017-09-11                 0  \n",
       "2017-08-11                 1  \n",
       "2017-01-11                 0  \n",
       "2017-10-30                 0  \n",
       "2017-10-23                 1  "
      ]
     },
     "execution_count": 33,
     "metadata": {},
     "output_type": "execute_result"
    }
   ],
   "source": [
    "pr_all['ClosingPrice_bin'] = pr_all.ClosingPrice >= pr_all.ClosingPrice.shift()\n",
    "pr_all['ClosingPrice_bin'] = pr_all['ClosingPrice_bin'].apply(lambda x: 1 if x == True else 0)\n",
    "pr_all.head()"
   ]
  },
  {
   "cell_type": "code",
   "execution_count": 35,
   "metadata": {},
   "outputs": [],
   "source": [
    "#Добавим леммы в обрезанную выборку\n",
    "df['lemmas']=df1['lemmas'][df1.index.isin(df.index)]"
   ]
  },
  {
   "cell_type": "code",
   "execution_count": 44,
   "metadata": {},
   "outputs": [],
   "source": [
    "#Функция разбивки данных на обучающую и тестовую выборки\n",
    "def train_test_split_custom(X, y, year):\n",
    "    X_train = X[X.index.year < year]\n",
    "    X_test = X[X.index.year >= year]\n",
    "    y_train = y[y.index.isin(X_train.index)]\n",
    "    y_test = y[y.index.isin(X_test.index)]\n",
    "    return X_train, X_test, y_train, y_test"
   ]
  },
  {
   "cell_type": "code",
   "execution_count": 75,
   "metadata": {},
   "outputs": [],
   "source": [
    "X = df['lemmas'].apply(\" \".join)\n",
    "y = pr_all['ClosingPrice_bin']\n",
    "X_train, X_test, y_train, y_test = train_test_split_custom(X, y, 2016)"
   ]
  },
  {
   "cell_type": "code",
   "execution_count": 83,
   "metadata": {},
   "outputs": [],
   "source": [
    "from sklearn.naive_bayes import MultinomialNB\n",
    "from sklearn.linear_model import SGDClassifier, LogisticRegression\n",
    "from sklearn.ensemble import RandomForestClassifier\n",
    "from sklearn.decomposition import TruncatedSVD\n",
    "from sklearn.feature_extraction.text import *\n",
    "from sklearn.metrics import *\n",
    "from sklearn.pipeline import Pipeline"
   ]
  },
  {
   "cell_type": "code",
   "execution_count": null,
   "metadata": {
    "collapsed": true
   },
   "outputs": [],
   "source": [
    "stop_words = stopwords.words('russian')"
   ]
  },
  {
   "cell_type": "markdown",
   "metadata": {},
   "source": [
    "## Используем RandomForest без tf-idf"
   ]
  },
  {
   "cell_type": "markdown",
   "metadata": {},
   "source": [
    "### Остальные параметры заранее подобраны для наибольшей точности"
   ]
  },
  {
   "cell_type": "code",
   "execution_count": 241,
   "metadata": {},
   "outputs": [
    {
     "data": {
      "text/plain": [
       "Pipeline(memory=None,\n",
       "     steps=[('vect', CountVectorizer(analyzer='word', binary=False, decode_error='strict',\n",
       "        dtype=<class 'numpy.int64'>, encoding='utf-8', input='content',\n",
       "        lowercase=True, max_df=1.0, max_features=None, min_df=1,\n",
       "        ngram_range=(1, 2), preprocessor=None,\n",
       "        stop_words=['и', 'в', ...stimators=100, n_jobs=1,\n",
       "            oob_score=False, random_state=0, verbose=0, warm_start=False))])"
      ]
     },
     "execution_count": 241,
     "metadata": {},
     "output_type": "execute_result"
    }
   ],
   "source": [
    "clf = Pipeline([\n",
    "    ('vect', CountVectorizer(ngram_range=(1,2), stop_words=stop_words)),\n",
    "    #('tfidf', TfidfTransformer()),\n",
    "    ('reducer', TruncatedSVD(n_components=30)),\n",
    "    ('clf', RandomForestClassifier(random_state=0, n_estimators=100)),\n",
    "])\n",
    "\n",
    "\n",
    "clf.fit(X_train, y_train)"
   ]
  },
  {
   "cell_type": "code",
   "execution_count": 242,
   "metadata": {},
   "outputs": [],
   "source": [
    "predictions = clf.predict(X_test)"
   ]
  },
  {
   "cell_type": "code",
   "execution_count": 243,
   "metadata": {},
   "outputs": [
    {
     "name": "stdout",
     "output_type": "stream",
     "text": [
      "Precision:   0.50\n",
      "Recall:   0.50\n",
      "F1-measure:   0.50\n",
      "Accuracy:   0.50\n",
      "             precision    recall  f1-score   support\n",
      "\n",
      "          0       0.44      0.49      0.46       112\n",
      "          1       0.57      0.51      0.54       146\n",
      "\n",
      "avg / total       0.51      0.50      0.51       258\n",
      "\n"
     ]
    },
    {
     "data": {
      "image/png": "[encoded data removed]",
      "text/plain": [
       "<matplotlib.figure.Figure at 0x1f40dfa46a0>"
      ]
     },
     "metadata": {},
     "output_type": "display_data"
    }
   ],
   "source": [
    "print(\"Precision: {0:6.2f}\".format(precision_score(y_test, predictions, average='macro')))\n",
    "print(\"Recall: {0:6.2f}\".format(recall_score(y_test, predictions, average='macro')))\n",
    "print(\"F1-measure: {0:6.2f}\".format(f1_score(y_test, predictions, average='macro')))\n",
    "print(\"Accuracy: {0:6.2f}\".format(accuracy_score(y_test, predictions)))\n",
    "print(classification_report(y_test, predictions))\n",
    "labels = clf.classes_\n",
    "sns.heatmap(data=confusion_matrix(y_test, predictions), annot=True, fmt=\"d\", cbar=False, xticklabels=labels, yticklabels=labels)\n",
    "plt.title(\"Confusion matrix\")\n",
    "plt.show()"
   ]
  },
  {
   "cell_type": "markdown",
   "metadata": {},
   "source": [
    "## Теперь его же но с tf-idf "
   ]
  },
  {
   "cell_type": "code",
   "execution_count": 238,
   "metadata": {},
   "outputs": [
    {
     "data": {
      "text/plain": [
       "Pipeline(memory=None,\n",
       "     steps=[('vect', CountVectorizer(analyzer='word', binary=False, decode_error='strict',\n",
       "        dtype=<class 'numpy.int64'>, encoding='utf-8', input='content',\n",
       "        lowercase=True, max_df=1.0, max_features=None, min_df=1,\n",
       "        ngram_range=(1, 2), preprocessor=None,\n",
       "        stop_words=['и', 'в', ...stimators=100, n_jobs=1,\n",
       "            oob_score=False, random_state=0, verbose=0, warm_start=False))])"
      ]
     },
     "execution_count": 238,
     "metadata": {},
     "output_type": "execute_result"
    }
   ],
   "source": [
    "clf = Pipeline([\n",
    "    ('vect', CountVectorizer(ngram_range=(1,2), stop_words=stop_words)),\n",
    "    ('tfidf', TfidfTransformer()),\n",
    "    ('reducer', TruncatedSVD(n_components=30)),\n",
    "    ('clf', RandomForestClassifier(random_state=0, n_estimators=100)),\n",
    "])\n",
    "\n",
    "\n",
    "clf.fit(X_train, y_train)"
   ]
  },
  {
   "cell_type": "code",
   "execution_count": 239,
   "metadata": {
    "collapsed": true
   },
   "outputs": [],
   "source": [
    "predictions = clf.predict(X_test)"
   ]
  },
  {
   "cell_type": "code",
   "execution_count": 240,
   "metadata": {},
   "outputs": [
    {
     "name": "stdout",
     "output_type": "stream",
     "text": [
      "Precision:   0.56\n",
      "Recall:   0.56\n",
      "F1-measure:   0.56\n",
      "Accuracy:   0.57\n",
      "             precision    recall  f1-score   support\n",
      "\n",
      "          0       0.51      0.46      0.49       112\n",
      "          1       0.62      0.66      0.64       146\n",
      "\n",
      "avg / total       0.57      0.57      0.57       258\n",
      "\n"
     ]
    },
    {
     "data": {
      "image/png": "[encoded data removed]",
      "text/plain": [
       "<matplotlib.figure.Figure at 0x1f40cca7cf8>"
      ]
     },
     "metadata": {},
     "output_type": "display_data"
    }
   ],
   "source": [
    "print(\"Precision: {0:6.2f}\".format(precision_score(y_test, predictions, average='macro')))\n",
    "print(\"Recall: {0:6.2f}\".format(recall_score(y_test, predictions, average='macro')))\n",
    "print(\"F1-measure: {0:6.2f}\".format(f1_score(y_test, predictions, average='macro')))\n",
    "print(\"Accuracy: {0:6.2f}\".format(accuracy_score(y_test, predictions)))\n",
    "print(classification_report(y_test, predictions))\n",
    "labels = clf.classes_\n",
    "sns.heatmap(data=confusion_matrix(y_test, predictions), annot=True, fmt=\"d\", cbar=False, xticklabels=labels, yticklabels=labels)\n",
    "plt.title(\"Confusion matrix\")\n",
    "plt.show()"
   ]
  },
  {
   "cell_type": "markdown",
   "metadata": {},
   "source": [
    "### Выводы"
   ]
  },
  {
   "cell_type": "markdown",
   "metadata": {},
   "source": [
    "Несмотря на то, что добавление tf-idf преобразования несколько улучшает общую точность предсказаний, сами результаты оставляют желать лучшего. Реузультаты MultinomialNB и LogisticRegression оказались хуже, чем у RandomForest.    "
   ]
  },
  {
   "cell_type": "markdown",
   "metadata": {},
   "source": [
    "## Часть 3. Творческая\n",
    "Придумайте и попытайтесь сделать еще что-нибудь, чтобы улучшить качество классификации. \n",
    "Направления развития:\n",
    "* Морфологический признаки: \n",
    "    * использовать в качестве признаков только существительные или только именованные сущности;\n",
    "* Модели скрытых тем:\n",
    "    * использовать в качестве признаков скрытые темы;\n",
    "    * использовать в качестве признаков динамические скрытые темы \n",
    "    пример тут: (https://github.com/RaRe-Technologies/gensim/blob/develop/docs/notebooks/dtm_example.ipynb)\n",
    "* Синтаксические признаки:\n",
    "    * использовать SOV-тройки в качестве признаков\n",
    "    * кластеризовать SOV-тройки по эмбеддингам глаголов (обученные word2vec модели можно скачать отсюда: (http://rusvectores.org/ru/models/) и использовать только центроиды кластеров в качестве признаков\n",
    "* что-нибудь еще     "
   ]
  }
 ],
 "metadata": {
  "kernelspec": {
   "display_name": "Python 3",
   "language": "python",
   "name": "python3"
  },
  "language_info": {
   "codemirror_mode": {
    "name": "ipython",
    "version": 3
   },
   "file_extension": ".py",
   "mimetype": "text/x-python",
   "name": "python",
   "nbconvert_exporter": "python",
   "pygments_lexer": "ipython3",
   "version": "3.6.3"
  }
 },
 "nbformat": 4,
 "nbformat_minor": 2
}
