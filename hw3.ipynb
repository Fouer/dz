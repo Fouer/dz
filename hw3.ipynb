{
 "cells": [
  {
   "cell_type": "markdown",
   "metadata": {},
   "source": [
    "# Домашнее задание 3\n",
    "\n",
    "## Сбор данных из интернета и генерация текстов\n",
    "\n",
    "В этом домашнем задании вам предстоит: \n",
    "1. выбрать свой источник структурированных данных (прогноз погоды, курс акций, счет спортивных мероприятий, или что-нибудь еще) \n",
    "2. научиться извлекать данные из с выбранной веб-страницы\n",
    "3. научиться генерировать текст по шаблонам"
   ]
  },
  {
   "cell_type": "markdown",
   "metadata": {},
   "source": [
    "## Часть 1\n",
    "\n",
    "Выберете источник данных, который вам симпатичен. По умолчанию, предлагаем использовать данные о погоде в Москве: \n",
    "https://www.gismeteo.ru/weather-moscow-4368/. Извлеките из html-кода страницы температуру сегодня, уровень осадков и скорость ветра.\n",
    "\n",
    "\n",
    "В качестве источника возмем данные по вчерашним матчам чемпионата Италии по футболу сайта СпортЭкспресс. Извлечем названия команд и счет."
   ]
  },
  {
   "cell_type": "code",
   "execution_count": 1,
   "metadata": {
    "collapsed": true
   },
   "outputs": [],
   "source": [
    "import requests\n",
    "from bs4 import BeautifulSoup"
   ]
  },
  {
   "cell_type": "code",
   "execution_count": 2,
   "metadata": {},
   "outputs": [],
   "source": [
    "link = \"https://www.sport-express.ru/live/yesterday/football/\"\n",
    "html = requests.get(link).text"
   ]
  },
  {
   "cell_type": "code",
   "execution_count": 3,
   "metadata": {},
   "outputs": [],
   "source": [
    "soup = BeautifulSoup(html, 'html.parser')\n",
    "team1 = soup.find('span', {'id': 'command1_672637'}).text\n",
    "team2 = soup.find('span', {'id': 'command2_672637'}).text\n",
    "result = soup.find('span', {'id': 'scoreresult_672637'}).text.strip()"
   ]
  },
  {
   "cell_type": "markdown",
   "metadata": {},
   "source": [
    "## Часть 2\n",
    "Запрограммируйте шаблон, описывающие температуру, уровень осадков и скорость ветра сегодня. Например,\n",
    "\"Температура сегодня составляет X градусов\", где Х – излеченное выше число. Сгенерируйте таким образом описание погоды сегодня. Учтите, величина X влияет на грамматическое число, использованное в единицах измерения (\"двадцать градусов\", но \"двадцать один градус\"). Используйте бибилиотеку utg или дополнительные функции pymorphy2"
   ]
  },
  {
   "cell_type": "code",
   "execution_count": 4,
   "metadata": {},
   "outputs": [],
   "source": [
    "import pymorphy2\n",
    "morph = pymorphy2.MorphAnalyzer()\n",
    "#Проверим, какая из команд выиграла, и поменяем глагол и его склонение по результатам проверки\n",
    "if result.split(\":\")[0]>result.split(\":\")[1]:\n",
    "    outplay = morph.parse('обыграть')[0]\n",
    "else:\n",
    "    outplay = morph.parse('проиграть')[0]\n",
    "g = morph.parse(team1)[0].tag.gender\n",
    "outplay = outplay.inflect({'past',g}).word"
   ]
  },
  {
   "cell_type": "code",
   "execution_count": 5,
   "metadata": {},
   "outputs": [
    {
     "name": "stdout",
     "output_type": "stream",
     "text": [
      "Вчера в чемпионате Италии Кротоне проиграл Наполи со счетом 0:1\n"
     ]
    }
   ],
   "source": [
    "print('Вчера в чемпионате Италии {} {} {} со счетом {}'.format(team1, outplay, team2, result))"
   ]
  }
 ],
 "metadata": {
  "kernelspec": {
   "display_name": "Python 3",
   "language": "python",
   "name": "python3"
  },
  "language_info": {
   "codemirror_mode": {
    "name": "ipython",
    "version": 3
   },
   "file_extension": ".py",
   "mimetype": "text/x-python",
   "name": "python",
   "nbconvert_exporter": "python",
   "pygments_lexer": "ipython3",
   "version": "3.6.3"
  }
 },
 "nbformat": 4,
 "nbformat_minor": 2
}
