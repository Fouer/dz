{
 "cells": [
  {
   "cell_type": "markdown",
   "metadata": {},
   "source": [
    "# Домашнее задание 3\n",
    "\n",
    "## Сбор данных из интернета и генерация текстов\n",
    "\n",
    "В этом домашнем задании вам предстоит: \n",
    "1. выбрать свой источник структурированных данных (прогноз погоды, курс акций, счет спортивных мероприятий, или что-нибудь еще) \n",
    "2. научиться извлекать данные из с выбранной веб-страницы\n",
    "3. научиться генерировать текст по шаблонам"
   ]
  },
  {
   "cell_type": "markdown",
   "metadata": {},
   "source": [
    "## Часть 1\n",
    "\n",
    "Выберете источник данных, который вам симпатичен. По умолчанию, предлагаем использовать данные о погоде в Москве: \n",
    "https://www.gismeteo.ru/weather-moscow-4368/. Извлеките из html-кода страницы температуру сегодня, уровень осадков и скорость ветра.\n",
    "\n",
    "\n",
    "В качестве источника возмем данные по вчерашним матчам чемпионатов по футболу сайта СпортЭкспресс. Извлечем названия команд и счет."
   ]
  },
  {
   "cell_type": "code",
   "execution_count": 1,
   "metadata": {
    "collapsed": true
   },
   "outputs": [],
   "source": [
    "import requests\n",
    "import re\n",
    "from bs4 import BeautifulSoup"
   ]
  },
  {
   "cell_type": "code",
   "execution_count": 2,
   "metadata": {},
   "outputs": [],
   "source": [
    "link = \"https://www.sport-express.ru/live/yesterday/football/\"\n",
    "html = requests.get(link).text"
   ]
  },
  {
   "cell_type": "code",
   "execution_count": 19,
   "metadata": {},
   "outputs": [],
   "source": [
    "soup = BeautifulSoup(html, 'html.parser')\n",
    "team1 = [p.text for p in soup.find_all('span', {'id': re.compile('command1_[0-9]*')})]\n",
    "team2 = [p.text for p in soup.find_all('span', {'id': re.compile('command2_[0-9]*')})]\n",
    "result = [p.text.strip() for p in soup.find_all('span', {'id': re.compile('scoreresult_[0-9]*')})]"
   ]
  },
  {
   "cell_type": "markdown",
   "metadata": {},
   "source": [
    "## Часть 2\n",
    "Запрограммируйте шаблон, описывающие температуру, уровень осадков и скорость ветра сегодня. Например,\n",
    "\"Температура сегодня составляет X градусов\", где Х – излеченное выше число. Сгенерируйте таким образом описание погоды сегодня. Учтите, величина X влияет на грамматическое число, использованное в единицах измерения (\"двадцать градусов\", но \"двадцать один градус\"). Используйте бибилиотеку utg или дополнительные функции pymorphy2"
   ]
  },
  {
   "cell_type": "code",
   "execution_count": 30,
   "metadata": {},
   "outputs": [
    {
     "name": "stdout",
     "output_type": "stream",
     "text": [
      "Вчера Кротоне проиграл Наполи со счетом 0:1\n",
      "Вчера Миллуол обыграл Куинз Парк Рейнджерс со счетом 1:0\n",
      "Вчера Кардифф Сити проиграл Престон со счетом 0:1\n",
      "Вчера Кэррик Рейнджерс сыграло вничью с Баллинамаллард Юнайтед со счетом 2:2\n",
      "Вчера Конна'с Куэй сыграл вничью с Сефн Друидс со счетом 1:1\n"
     ]
    }
   ],
   "source": [
    "import pymorphy2\n",
    "morph = pymorphy2.MorphAnalyzer()\n",
    "#Проверим, какая из команд выиграла, и поменяем глагол и его склонение по результатам проверки\n",
    "for i in range(len(team1)):\n",
    "    if result[i].split(\":\")[0]>result[i].split(\":\")[1]:\n",
    "        outplay = morph.parse('обыграть')[0]\n",
    "        outplay = outplay.inflect({'past',g}).word\n",
    "    elif result[i].split(\":\")[0]<result[i].split(\":\")[1]:\n",
    "        outplay = morph.parse('проиграть')[0]\n",
    "        outplay = outplay.inflect({'past',g}).word\n",
    "    else:\n",
    "        outplay = morph.parse('сыграть')[0]\n",
    "        outplay = outplay.inflect({'past',g}).word+' вничью с'\n",
    "    g = morph.parse(team1[i])[0].tag.gender\n",
    "    print('Вчера {} {} {} со счетом {}'.format(team1[i], outplay, team2[i], result[i]))"
   ]
  }
 ],
 "metadata": {
  "kernelspec": {
   "display_name": "Python 3",
   "language": "python",
   "name": "python3"
  },
  "language_info": {
   "codemirror_mode": {
    "name": "ipython",
    "version": 3
   },
   "file_extension": ".py",
   "mimetype": "text/x-python",
   "name": "python",
   "nbconvert_exporter": "python",
   "pygments_lexer": "ipython3",
   "version": "3.6.3"
  }
 },
 "nbformat": 4,
 "nbformat_minor": 2
}
