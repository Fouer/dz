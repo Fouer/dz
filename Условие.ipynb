{
 "cells": [
  {
   "cell_type": "markdown",
   "metadata": {},
   "source": [
    "# Домашнее задание 2 по обработке текстов\n",
    "\n",
    "Рассмотрим задачу бинарной классификации. Пусть дано два списка имен: мужские и женские имена. Требуется разработать классификатор, который по данному имени будет определять мужское оно или женское.\n",
    "\n",
    "Данные: \n",
    "* Женские имена: female.txt\n",
    "* Мужские имена: male.txt"
   ]
  },
  {
   "cell_type": "markdown",
   "metadata": {},
   "source": [
    "## Часть 1. Предварительная обработка данных\n",
    "\n",
    "1. Удалите неоднозначные имена (те имена, которые являются и мужскими, и женскими дновременно), если такие есть; \n",
    "2. Создайте обучающее и тестовое множество так, чтобы в обучающем множестве классы были сбалансированы, т.е. к классу принадлежало бы одинаковое количество имен;"
   ]
  },
  {
   "cell_type": "code",
   "execution_count": 1,
   "metadata": {
    "collapsed": true
   },
   "outputs": [],
   "source": [
    "import os\n",
    "import itertools\n",
    "import pandas as pd\n",
    "import numpy as np\n",
    "from sklearn.model_selection import train_test_split\n",
    "from sklearn.utils import resample"
   ]
  },
  {
   "cell_type": "code",
   "execution_count": 2,
   "metadata": {},
   "outputs": [],
   "source": [
    "#Загружаем данные и закодируем мужской пол через 1, а женский через 0\n",
    "female = pd.read_csv('female.txt', sep=\"\\n\", header = None, names = ['Name'])\n",
    "male = pd.read_csv('male.txt', sep=\"\\n\", header = None, names = ['Name'])\n",
    "female['Gender'] = 0\n",
    "male['Gender'] = 1"
   ]
  },
  {
   "cell_type": "code",
   "execution_count": 3,
   "metadata": {},
   "outputs": [],
   "source": [
    "#Удаляем неоднозначные данные и объединяем\n",
    "female = female[~female['Name'].isin(male['Name'])]\n",
    "male = male[~male['Name'].isin(female['Name'])]"
   ]
  },
  {
   "cell_type": "markdown",
   "metadata": {},
   "source": [
    "##### Создание тестовой и сбалансированной обучающей выборки"
   ]
  },
  {
   "cell_type": "code",
   "execution_count": 4,
   "metadata": {},
   "outputs": [
    {
     "data": {
      "text/plain": [
       "(2943, 4636)"
      ]
     },
     "execution_count": 4,
     "metadata": {},
     "output_type": "execute_result"
    }
   ],
   "source": [
    "len(male), len(female)"
   ]
  },
  {
   "cell_type": "markdown",
   "metadata": {},
   "source": [
    "Очевидно, что классы несбалансированы, для создания сбалансированной обучающей выборки сделаем downsampling класса женских имен."
   ]
  },
  {
   "cell_type": "code",
   "execution_count": 5,
   "metadata": {},
   "outputs": [
    {
     "data": {
      "text/plain": [
       "2943"
      ]
     },
     "execution_count": 5,
     "metadata": {},
     "output_type": "execute_result"
    }
   ],
   "source": [
    "female_downsampled = resample(female, \n",
    "                              replace=False,    \n",
    "                              n_samples=len(male),     \n",
    "                              random_state=123)\n",
    "len(female_downsampled)"
   ]
  },
  {
   "cell_type": "markdown",
   "metadata": {},
   "source": [
    "Теперь классы сбалансированы."
   ]
  },
  {
   "cell_type": "code",
   "execution_count": 6,
   "metadata": {
    "collapsed": true
   },
   "outputs": [],
   "source": [
    "data_balanced = pd.concat([male,female_downsampled], axis=0, ignore_index=True)"
   ]
  },
  {
   "cell_type": "code",
   "execution_count": 7,
   "metadata": {},
   "outputs": [
    {
     "name": "stdout",
     "output_type": "stream",
     "text": [
      "Процент мужчин в обучающей выборке: 50%\n",
      "Процент мужчин в тестовой выборке: 51%\n"
     ]
    }
   ],
   "source": [
    "X_train, X_test, y_train, y_test = train_test_split(data_balanced.Name, data_balanced.Gender, test_size=0.33, random_state=123)\n",
    "print(\"Процент мужчин в обучающей выборке: {:.0f}%\".format(sum(y_train) / len(y_train) * 100))\n",
    "print(\"Процент мужчин в тестовой выборке: {:.0f}%\".format(sum(y_test) / len(y_test) * 100)) "
   ]
  },
  {
   "cell_type": "markdown",
   "metadata": {},
   "source": [
    "Теперь обучающая и тестовая выборка сбалансированы, но мы можем добавить в тестовую выборку женские имена, которые выбросили ранее, чтобы сет для проверки был полноценным."
   ]
  },
  {
   "cell_type": "code",
   "execution_count": 8,
   "metadata": {},
   "outputs": [],
   "source": [
    "X_test = X_test.append(female['Name'][~female['Name'].isin(female_downsampled['Name'])])\n",
    "y_test = y_test.append(female['Gender'][~female['Name'].isin(female_downsampled['Name'])])"
   ]
  },
  {
   "cell_type": "code",
   "execution_count": 9,
   "metadata": {},
   "outputs": [
    {
     "name": "stdout",
     "output_type": "stream",
     "text": [
      "Процент мужчин в обучающей выборке: 50%\n",
      "Процент мужчин в тестовой выборке: 27%\n"
     ]
    }
   ],
   "source": [
    "print(\"Процент мужчин в обучающей выборке: {:.0f}%\".format(sum(y_train) / len(y_train) * 100))\n",
    "print(\"Процент мужчин в тестовой выборке: {:.0f}%\".format(sum(y_test) / len(y_test) * 100))"
   ]
  },
  {
   "cell_type": "markdown",
   "metadata": {},
   "source": [
    "##  Часть 2. Базовый метод классификации\n",
    "\n",
    "Используйте метод наивного Байеса или логистическую регрессию для классификации имен: в качестве признаков используйте символьные $n$-граммы. Сравните результаты, получаемые при разных $n=2,3,4$ по $F$-мере и аккуратности. В каких случаях метод ошибается?"
   ]
  },
  {
   "cell_type": "code",
   "execution_count": 10,
   "metadata": {
    "collapsed": true
   },
   "outputs": [],
   "source": [
    "from sklearn.linear_model import LogisticRegression\n",
    "from sklearn.pipeline import Pipeline\n",
    "from sklearn.feature_extraction.text import *\n",
    "from sklearn.metrics import *"
   ]
  },
  {
   "cell_type": "markdown",
   "metadata": {},
   "source": [
    "##### Будем использовать логистическую регрессию, количество n-gram от 2 до 4"
   ]
  },
  {
   "cell_type": "code",
   "execution_count": 11,
   "metadata": {},
   "outputs": [
    {
     "name": "stdout",
     "output_type": "stream",
     "text": [
      "For n = 2\n",
      "F1-measure:   0.74\n",
      "Accuracy:   0.78\n",
      "For n = 3\n",
      "F1-measure:   0.75\n",
      "Accuracy:   0.78\n",
      "For n = 4\n",
      "F1-measure:   0.71\n",
      "Accuracy:   0.73\n"
     ]
    }
   ],
   "source": [
    "for n in range(2,5):\n",
    "    clf = Pipeline([\n",
    "    ('vect', CountVectorizer(ngram_range=(n,n), analyzer='char')),\n",
    "    ('clf', LogisticRegression())])\n",
    "    clf.fit(X_train, y_train)\n",
    "    predictions = clf.predict(X_test)\n",
    "    print(\"For n = {}\".format(n))\n",
    "    print(\"F1-measure: {0:6.2f}\".format(f1_score(y_test, predictions, average='macro')))\n",
    "    print(\"Accuracy: {0:6.2f}\".format(accuracy_score(y_test, predictions)))"
   ]
  },
  {
   "cell_type": "markdown",
   "metadata": {},
   "source": [
    "Лучший результат по Accuracy и F1 показали 3-х символьные n-граммы"
   ]
  }
 ],
 "metadata": {
  "kernelspec": {
   "display_name": "Python 3",
   "language": "python",
   "name": "python3"
  },
  "language_info": {
   "codemirror_mode": {
    "name": "ipython",
    "version": 3
   },
   "file_extension": ".py",
   "mimetype": "text/x-python",
   "name": "python",
   "nbconvert_exporter": "python",
   "pygments_lexer": "ipython3",
   "version": "3.6.3"
  }
 },
 "nbformat": 4,
 "nbformat_minor": 2
}
